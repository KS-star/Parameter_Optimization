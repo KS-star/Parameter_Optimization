{
  "cells": [
    {
      "cell_type": "code",
      "execution_count": null,
      "metadata": {
        "colab": {
          "base_uri": "https://localhost:8080/",
          "height": 423
        },
        "id": "TQh7tjr6DSSX",
        "outputId": "e61f9a47-eb7a-45e7-a660-d90ca7bd513b"
      },
      "outputs": [],
      "source": [
        "import pandas as pd\n",
        "\n",
        "url = \"https://archive.ics.uci.edu/ml/machine-learning-databases/wine-quality/winequality-red.csv\"\n",
        "df = pd.read_csv(url, sep=\";\")\n",
        "df"
      ]
    },
    {
      "cell_type": "code",
      "execution_count": null,
      "metadata": {
        "colab": {
          "base_uri": "https://localhost:8080/"
        },
        "id": "T1KjhSM2JobI",
        "outputId": "aeadd5cd-b82f-4cbd-ba68-3352518ccb9b"
      },
      "outputs": [],
      "source": [
        "import pandas as pd\n",
        "from sklearn.model_selection import train_test_split\n",
        "\n",
        "# Split the dataset into 10 samples of training and testing data\n",
        "for i in range(10):\n",
        "    train, test = train_test_split(df, test_size=0.3, random_state=i)\n",
        "    print(f\"Sample {i+1}: Training data shape: {train.shape}, Testing data shape: {test.shape}\")\n"
      ]
    },
    {
      "cell_type": "code",
      "execution_count": null,
      "metadata": {
        "colab": {
          "base_uri": "https://localhost:8080/"
        },
        "id": "jQ1FceF8Kk8K",
        "outputId": "ebe3ce63-d55f-4986-fda0-101450924e37"
      },
      "outputs": [],
      "source": [
        "import pandas as pd\n",
        "from sklearn.model_selection import train_test_split\n",
        "from sklearn.svm import SVC\n",
        "\n",
        "# Load the wine quality dataset from CSV file\n",
        "df = pd.read_csv('https://archive.ics.uci.edu/ml/machine-learning-databases/wine-quality/winequality-red.csv', delimiter=';')\n",
        "\n",
        "# Separate the features and target variable\n",
        "X = df.drop('quality', axis=1)\n",
        "y = df['quality']\n",
        "\n",
        "# Perform 10 iterations of train-test split with 70-30 ratio\n",
        "for i in range(10):\n",
        "    X_train, X_test, y_train, y_test = train_test_split(X, y, test_size=0.3, random_state=i)\n",
        "\n",
        "    # Train SVM classifier on the training data\n",
        "    svm = SVC()\n",
        "    svm.fit(X_train, y_train)\n",
        "\n",
        "    # Evaluate the classifier on the testing data and print the accuracy\n",
        "    accuracy = svm.score(X_test, y_test)\n",
        "    print(f\"Sample {i+1}: Accuracy = {accuracy:.4f}\")\n"
      ]
    },
    {
      "cell_type": "code",
      "execution_count": null,
      "metadata": {
        "colab": {
          "base_uri": "https://localhost:8080/"
        },
        "id": "sogX0-YcLaIZ",
        "outputId": "b9601ba8-0e66-4674-d9fd-931ac1146469"
      },
      "outputs": [],
      "source": [
        "import pandas as pd\n",
        "from sklearn.datasets import fetch_openml\n",
        "from sklearn.model_selection import train_test_split, GridSearchCV\n",
        "from sklearn.svm import SVC\n",
        "\n",
        "# Fetch wine quality dataset\n",
        "df = pd.read_csv('https://archive.ics.uci.edu/ml/machine-learning-databases/wine-quality/winequality-red.csv', sep=';')\n",
        "\n",
        "# Split into features and target variable\n",
        "X = df.drop('quality', axis=1)\n",
        "y = df['quality']\n",
        "\n",
        "# Define SVM classifier\n",
        "svm = SVC(max_iter=1000)\n",
        "\n",
        "# Define parameter grid for grid search\n",
        "param_grid = {'C': [0.1, 1, 10], 'kernel': ['linear', 'rbf', 'poly', 'sigmoid'], 'gamma': ['scale', 'auto'], 'degree': [2, 3]}\n",
        "\n",
        "# Create empty dictionary to hold best kernel result for each sample\n",
        "best_kernels = {}\n",
        "\n",
        "# Perform grid search with 10-fold cross-validation for each sample\n",
        "for i in range(10):\n",
        "    X_train, X_test, y_train, y_test = train_test_split(X, y, test_size=0.3, random_state=i)\n",
        "\n",
        "    svm_cv = GridSearchCV(svm, param_grid, cv=5, verbose=1)\n",
        "    svm_cv.fit(X_train, y_train)\n",
        "\n",
        "    # Update best_kernels dictionary with best kernel result for this sample\n",
        "    best_kernels[f'Sample {i+1}'] = svm_cv.best_params_['kernel']\n",
        "\n",
        "    # Print the best parameters and mean cross-validation score for this sample\n",
        "    print(f\"Sample {i+1}: Best parameters: {svm_cv.best_params_}, CV score: {svm_cv.best_score_}\")\n",
        "\n",
        "# Convert best_kernels dictionary to pandas DataFrame\n",
        "best_kernels_df = pd.DataFrame.from_dict(best_kernels, orient='index', columns=['Best Kernel'])\n",
        "\n",
        "print(best_kernels_df)\n"
      ]
    },
    {
      "cell_type": "code",
      "execution_count": null,
      "metadata": {
        "colab": {
          "base_uri": "https://localhost:8080/",
          "height": 1000
        },
        "id": "T_FP-bISORqp",
        "outputId": "c685baee-62bb-4067-b2cf-ed045cca3ab4"
      },
      "outputs": [],
      "source": [
        "import pandas as pd\n",
        "from sklearn.datasets import fetch_openml\n",
        "from sklearn.model_selection import train_test_split, RandomizedSearchCV\n",
        "from sklearn.svm import SVR\n",
        "from scipy.stats import uniform\n",
        "\n",
        "# Fetch wine quality dataset\n",
        "df = pd.read_csv('https://archive.ics.uci.edu/ml/machine-learning-databases/wine-quality/winequality-red.csv', sep=';')\n",
        "\n",
        "# Split into features and target variable\n",
        "X = df.drop('quality', axis=1)\n",
        "y = df['quality']\n",
        "\n",
        "# Define SVM regressor\n",
        "svm = SVR(max_iter=1000)\n",
        "\n",
        "# Define parameter distribution for randomized search\n",
        "param_dist = {'C': uniform(0.1, 100), 'kernel': ['linear', 'rbf', 'poly', 'sigmoid'], 'gamma': ['scale', 'auto'], 'epsilon': uniform(0.01, 1)}\n",
        "\n",
        "# Perform randomized search with 10-fold cross-validation for each sample\n",
        "for i in range(10):\n",
        "    X_train, X_test, y_train, y_test = train_test_split(X, y, test_size=0.3, random_state=i)\n",
        "\n",
        "    svm_rs = RandomizedSearchCV(svm, param_dist, cv=5, n_iter=100, verbose=1)\n",
        "    svm_rs.fit(X_train, y_train)\n",
        "\n",
        "    # Print the best parameters and mean cross-validation score for each sample\n",
        "    print(f\"Sample {i+1}: Best parameters: {svm_rs.best_params_}, CV score: {svm_rs.best_score_}\")\n",
        "    \n",
        "    # Calculate test score for best model\n",
        "    best_model = svm_rs.best_estimator_\n",
        "    test_score = best_model.score(X_test, y_test)\n",
        "    print(f\"Test score: {test_score}\")\n",
        "    \n",
        "    # Calculate epsilon deviation for best model\n",
        "    y_pred = best_model.predict(X_test)\n",
        "    eps_dev = y_test - y_pred\n",
        "    print(f\"Epsilon deviation: {eps_dev.mean()}\")\n"
      ]
    },
    {
      "cell_type": "code",
      "execution_count": null,
      "metadata": {
        "colab": {
          "base_uri": "https://localhost:8080/",
          "height": 432
        },
        "id": "yLI7aB7pPTne",
        "outputId": "0c2fd577-31c1-4f6a-bb2c-c67d400555be"
      },
      "outputs": [],
      "source": [
        "import pandas as pd\n",
        "from sklearn.datasets import fetch_openml\n",
        "from sklearn.model_selection import train_test_split, GridSearchCV\n",
        "from sklearn.svm import NuSVR\n",
        "\n",
        "# Fetch wine quality dataset\n",
        "df = pd.read_csv('https://archive.ics.uci.edu/ml/machine-learning-databases/wine-quality/winequality-red.csv', sep=';')\n",
        "\n",
        "# Split into features and target variable\n",
        "X = df.drop('quality', axis=1)\n",
        "y = df['quality']\n",
        "\n",
        "# Define parameter grid for grid search\n",
        "param_grid = {'kernel': ['linear', 'rbf', 'poly', 'sigmoid'], 'gamma': ['scale', 'auto'], 'degree': [2, 3]}\n",
        "\n",
        "# Define function to calculate best hyperparameters for each sample\n",
        "def optimize_hyperparameters(X, y, param_grid, model):\n",
        "    results = []\n",
        "    for i in range(10):\n",
        "        X_train, X_test, y_train, y_test = train_test_split(X, y, test_size=0.3, random_state=i)\n",
        "        svm_cv = GridSearchCV(model, param_grid, cv=5, verbose=1, error_score='raise')\n",
        "        svm_cv.fit(X_train, y_train)\n",
        "        results.append([svm_cv.best_params_['kernel'], svm_cv.best_params_.get('nu', '-'), svm_cv.best_params_.get('epsilon', '-')])\n",
        "    return results\n",
        "\n",
        "# Calculate best hyperparameters for each sample\n",
        "results = optimize_hyperparameters(X, y, param_grid, NuSVR())\n",
        "\n",
        "# Create table to store results\n",
        "results_df = pd.DataFrame(results, columns=['Best kernel', 'Nu', 'Epsilon'])\n",
        "\n",
        "# Print table\n",
        "print(results_df)\n"
      ]
    },
    {
      "cell_type": "code",
      "execution_count": null,
      "metadata": {
        "colab": {
          "base_uri": "https://localhost:8080/",
          "height": 380
        },
        "id": "j8m3LZURYPU3",
        "outputId": "1613aaa8-3db9-46e5-bace-e5a1982bb791"
      },
      "outputs": [],
      "source": [
        "import numpy as np\n",
        "import pandas as pd\n",
        "from sklearn.model_selection import train_test_split, GridSearchCV\n",
        "from sklearn.svm import NuSVC\n",
        "from sklearn.metrics import accuracy_score\n",
        "import matplotlib.pyplot as plt\n",
        "\n",
        "# Load the dataset\n",
        "data = pd.read_csv('https://archive.ics.uci.edu/ml/machine-learning-databases/abalone/abalone.data', header=None)\n",
        "\n",
        "# Convert the sex column to numeric\n",
        "data[0] = pd.factorize(data[0])[0]\n",
        "\n",
        "# Split the data into features and target\n",
        "X = data.iloc[:, :-1]\n",
        "y = data.iloc[:, -1]\n",
        "\n",
        "# Split the data into training and testing sets\n",
        "X_train, X_test, y_train, y_test = train_test_split(X, y, test_size=0.2, random_state=42)\n",
        "\n",
        "# Define the parameter grid for GridSearchCV\n",
        "param_grid = {\n",
        "    'kernel': ['linear', 'rbf', 'sigmoid', 'poly'],\n",
        "    'nu': [0.01, 0.05, 0.1, 0.5, 0.9],\n",
        "    'degree': [2, 3, 4]\n",
        "}\n",
        "\n",
        "# Define the GridSearchCV object\n",
        "grid = GridSearchCV(NuSVC(), param_grid, cv=5)\n",
        "\n",
        "results = []\n",
        "\n",
        "# Iterate over all the samples in the training set\n",
        "for i in range(X_train.shape[0]):\n",
        "    sample = X_train.iloc[[i], :]\n",
        "    target = y_train.iloc[[i]]\n",
        "\n",
        "    # Fit the model with the current sample\n",
        "    grid.fit(sample, target)\n",
        "\n",
        "    # Get the best model\n",
        "    best_svm = grid.best_estimator_\n",
        "\n",
        "    # Calculate the accuracy on the testing set\n",
        "    y_pred = best_svm.predict(X_test)\n",
        "    acc = accuracy_score(y_test, y_pred)\n",
        "\n",
        "    # Add the results to the list\n",
        "    results.append({\n",
        "        'sample': i,\n",
        "        'svm': best_svm,\n",
        "        'accuracy': acc,\n",
        "        'kernel': grid.best_params_['kernel'],\n",
        "        'nu': grid.best_params_['nu'],\n",
        "        'degree': grid.best_params_['degree']\n",
        "    })\n",
        "\n",
        "# Print the results in a table\n",
        "results_df = pd.DataFrame(results)\n",
        "print(results_df.to_string(index=False))\n",
        "\n",
        "# Get the sample with the highest accuracy\n",
        "max_acc_sample = max(results, key=lambda x: x['accuracy'])\n",
        "\n",
        "# Plot the convergence graph for this sample\n",
        "plt.plot(max_acc_sample['svm'].n_support_, label='n_support')\n",
        "plt.plot(max_acc_sample['svm'].dual_coef_, label='dual_coef')\n",
        "plt.xlabel('Iteration')\n",
        "plt.ylabel('Convergence')\n",
        "plt.title(f\"Convergence graph for sample {max_acc_sample['sample']} with {max_acc_sample['kernel']} kernel\")\n",
        "plt.legend()\n",
        "plt.show()\n"
      ]
    },
    {
      "cell_type": "code",
      "execution_count": null,
      "metadata": {
        "id": "Jdg4Y4_4ZL2I"
      },
      "outputs": [],
      "source": []
    }
  ],
  "metadata": {
    "colab": {
      "provenance": []
    },
    "kernelspec": {
      "display_name": "Python 3",
      "name": "python3"
    },
    "language_info": {
      "name": "python"
    }
  },
  "nbformat": 4,
  "nbformat_minor": 0
}
